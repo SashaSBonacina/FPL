{
 "cells": [
  {
   "cell_type": "code",
   "execution_count": null,
   "metadata": {},
   "outputs": [],
   "source": [
    "import pandas as pd\n",
    "import requests\n",
    "import json\n",
    "from bs4 import BeautifulSoup"
   ]
  },
  {
   "cell_type": "markdown",
   "metadata": {},
   "source": [
    "# 1 Match data"
   ]
  },
  {
   "cell_type": "code",
   "execution_count": null,
   "metadata": {},
   "outputs": [],
   "source": [
    "#scrape a single game shots. We will allow users to enter a base url\n",
    "base_url = 'https://understat.com/match/'\n",
    "match = str(input('Please enter the match id: '))\n",
    "url = base_url+match"
   ]
  },
  {
   "cell_type": "code",
   "execution_count": null,
   "metadata": {},
   "outputs": [],
   "source": [
    "#Use requests to get the webpage and BeautifulSoup to parse the page\n",
    "res = requests.get(url)\n",
    "soup = BeautifulSoup(res.content, \"html.parser\")\n",
    "scripts = soup.find_all('script')"
   ]
  },
  {
   "cell_type": "code",
   "execution_count": null,
   "metadata": {},
   "outputs": [],
   "source": [
    "strings = scripts[1].string"
   ]
  },
  {
   "cell_type": "code",
   "execution_count": null,
   "metadata": {},
   "outputs": [],
   "source": [
    "# strip unnecessary symbols and get only JSON data \n",
    "ind_start = strings.index(\"('\")+2 \n",
    "ind_end = strings.index(\"')\") \n",
    "json_data = strings[ind_start:ind_end] \n",
    "json_data = json_data.encode('utf8').decode('unicode_escape')\n",
    "\n",
    "#convert string to json format\n",
    "data = json.loads(json_data)"
   ]
  },
  {
   "cell_type": "code",
   "execution_count": null,
   "metadata": {},
   "outputs": [],
   "source": [
    "x = []\n",
    "y = []\n",
    "xG = []\n",
    "result = []\n",
    "team = []\n",
    "data_away = data['a']\n",
    "data_home = data['h']\n",
    "\n",
    "for index in range(len(data_home)):\n",
    "    for key in data_home[index]:\n",
    "        if key == 'X':\n",
    "            x.append(data_home[index][key])\n",
    "        if key == 'Y':\n",
    "            y.append(data_home[index][key])\n",
    "        if key == 'h_team':\n",
    "            team.append(data_home[index][key])\n",
    "        if key == 'xG':\n",
    "            xG.append(data_home[index][key])\n",
    "        if key == 'result':\n",
    "            result.append(data_home[index][key])\n",
    "\n",
    "for index in range(len(data_away)):\n",
    "    for key in data_away[index]:\n",
    "        if key == 'X':\n",
    "            x.append(data_away[index][key])\n",
    "        if key == 'Y':\n",
    "            y.append(data_away[index][key])\n",
    "        if key == 'a_team':\n",
    "            team.append(data_away[index][key])\n",
    "        if key == 'xG':\n",
    "            xG.append(data_away[index][key])\n",
    "        if key == 'result':\n",
    "            result.append(data_away[index][key])\n",
    "        "
   ]
  },
  {
   "cell_type": "code",
   "execution_count": null,
   "metadata": {},
   "outputs": [],
   "source": [
    "col_names = ['x','y','xG','result','team']\n",
    "df = pd.DataFrame([x,y,xG,result,team],index=col_names)\n",
    "df = df.T"
   ]
  },
  {
   "cell_type": "code",
   "execution_count": null,
   "metadata": {},
   "outputs": [],
   "source": [
    "df"
   ]
  },
  {
   "cell_type": "markdown",
   "metadata": {},
   "source": [
    "# Matches data"
   ]
  },
  {
   "cell_type": "code",
   "execution_count": null,
   "metadata": {},
   "outputs": [],
   "source": [
    "#scrape a single game shots. We will allow users to enter a base url\n",
    "year = 2024\n",
    "base_url = f'https://understat.com/league/EPL/{year}'\n",
    "#match = str(input('Please enter the match id: '))\n",
    "url = base_url"
   ]
  },
  {
   "cell_type": "code",
   "execution_count": null,
   "metadata": {},
   "outputs": [],
   "source": [
    "#Use requests to get the webpage and BeautifulSoup to parse the page\n",
    "res = requests.get(url)\n",
    "soup = BeautifulSoup(res.content, \"html.parser\")\n",
    "scripts = soup.find_all('script')"
   ]
  },
  {
   "cell_type": "code",
   "execution_count": null,
   "metadata": {},
   "outputs": [],
   "source": [
    "strings = scripts[1].string"
   ]
  },
  {
   "cell_type": "code",
   "execution_count": null,
   "metadata": {},
   "outputs": [],
   "source": [
    "# strip unnecessary symbols and get only JSON data \n",
    "ind_start = strings.index(\"('\")+2 \n",
    "ind_end = strings.index(\"')\") \n",
    "json_data = strings[ind_start:ind_end] \n",
    "json_data = json_data.encode('utf8').decode('unicode_escape')\n",
    "\n",
    "#convert string to json format\n",
    "matches_data = json.loads(json_data)"
   ]
  },
  {
   "cell_type": "markdown",
   "metadata": {},
   "source": [
    "# Table data by team"
   ]
  },
  {
   "cell_type": "code",
   "execution_count": 69,
   "metadata": {},
   "outputs": [],
   "source": [
    "#scrape a single game shots. We will allow users to enter a base url\n",
    "year = 2024\n",
    "base_url = f'https://understat.com/league/EPL/{year}'\n",
    "#match = str(input('Please enter the match id: '))\n",
    "url = base_url"
   ]
  },
  {
   "cell_type": "code",
   "execution_count": 70,
   "metadata": {},
   "outputs": [],
   "source": [
    "#Use requests to get the webpage and BeautifulSoup to parse the page\n",
    "res = requests.get(url)\n",
    "soup = BeautifulSoup(res.content, \"html.parser\")\n",
    "scripts = soup.find_all('script')"
   ]
  },
  {
   "cell_type": "code",
   "execution_count": 71,
   "metadata": {},
   "outputs": [],
   "source": [
    "strings = scripts[2].string"
   ]
  },
  {
   "cell_type": "code",
   "execution_count": 72,
   "metadata": {},
   "outputs": [],
   "source": [
    "# strip unnecessary symbols and get only JSON data \n",
    "ind_start = strings.index(\"('\")+2 \n",
    "ind_end = strings.index(\"')\") \n",
    "json_data = strings[ind_start:ind_end] \n",
    "json_data = json_data.encode('utf8').decode('unicode_escape')\n",
    "\n",
    "#convert string to json format\n",
    "team_data = json.loads(json_data)"
   ]
  },
  {
   "cell_type": "markdown",
   "metadata": {},
   "source": [
    "# Table data by player"
   ]
  },
  {
   "cell_type": "code",
   "execution_count": 78,
   "metadata": {},
   "outputs": [],
   "source": [
    "#scrape a single game shots. We will allow users to enter a base url\n",
    "year = 2024\n",
    "base_url = f'https://understat.com/league/EPL/{year}'\n",
    "#match = str(input('Please enter the match id: '))\n",
    "url = base_url"
   ]
  },
  {
   "cell_type": "code",
   "execution_count": 79,
   "metadata": {},
   "outputs": [],
   "source": [
    "#Use requests to get the webpage and BeautifulSoup to parse the page\n",
    "res = requests.get(url)\n",
    "soup = BeautifulSoup(res.content, \"html.parser\")\n",
    "scripts = soup.find_all('script')"
   ]
  },
  {
   "cell_type": "code",
   "execution_count": 80,
   "metadata": {},
   "outputs": [],
   "source": [
    "strings = scripts[3].string"
   ]
  },
  {
   "cell_type": "code",
   "execution_count": 81,
   "metadata": {},
   "outputs": [],
   "source": [
    "# strip unnecessary symbols and get only JSON data \n",
    "ind_start = strings.index(\"('\")+2 \n",
    "ind_end = strings.index(\"')\") \n",
    "json_data = strings[ind_start:ind_end] \n",
    "json_data = json_data.encode('utf8').decode('unicode_escape')\n",
    "\n",
    "#convert string to json format\n",
    "player_data = json.loads(json_data)"
   ]
  }
 ],
 "metadata": {
  "kernelspec": {
   "display_name": "FPL_venv",
   "language": "python",
   "name": "python3"
  },
  "language_info": {
   "codemirror_mode": {
    "name": "ipython",
    "version": 3
   },
   "file_extension": ".py",
   "mimetype": "text/x-python",
   "name": "python",
   "nbconvert_exporter": "python",
   "pygments_lexer": "ipython3",
   "version": "3.12.1"
  }
 },
 "nbformat": 4,
 "nbformat_minor": 2
}
